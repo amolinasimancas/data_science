{
  "nbformat": 4,
  "nbformat_minor": 0,
  "metadata": {
    "colab": {
      "provenance": [],
      "collapsed_sections": []
    },
    "kernelspec": {
      "name": "python3",
      "display_name": "Python 3"
    },
    "language_info": {
      "name": "python"
    }
  },
  "cells": [
    {
      "cell_type": "markdown",
      "source": [
        "## Introducción a Gradio"
      ],
      "metadata": {
        "id": "s8CImrBc6ueC"
      }
    },
    {
      "cell_type": "markdown",
      "source": [
        "Gradio ofrece dos API diferentes según el nivel de detalle que se busque:\n",
        "\n",
        "- `gradio.Interface`: API de alto nivel que permite crear demos de ML simplemente proporcionando una lista de entradas y salidas.\n",
        "\n",
        "- `gradio.Blocks`: API de bajo nivel que permite tener un control total sobre los flujos de datos y el diseño de la aplicación. Se pueden crear aplicaciones muy complejas de varios pasos utilizando Blocks (como si fueran bloques de construcción).\n",
        "\n",
        "Comenzaremos utilizando `Interface` y al final mostraremos un ejemplo de `Blocks`."
      ],
      "metadata": {
        "id": "ExMhF5WHB_IY"
      }
    },
    {
      "cell_type": "markdown",
      "source": [
        "## Instalamos Gradio"
      ],
      "metadata": {
        "id": "BSFxN8lAfwOv"
      }
    },
    {
      "cell_type": "code",
      "source": [],
      "metadata": {
        "id": "JFek1nvzH3z4"
      },
      "execution_count": null,
      "outputs": []
    },
    {
      "cell_type": "markdown",
      "source": [
        "Ejemplo usando una función para saludar que tiene `text` como input y `text` como output."
      ],
      "metadata": {
        "id": "h5EBhuJDgC7X"
      }
    },
    {
      "cell_type": "code",
      "source": [],
      "metadata": {
        "id": "vptt-bcrfrOx"
      },
      "execution_count": null,
      "outputs": []
    },
    {
      "cell_type": "markdown",
      "source": [
        "La clase de `gr.Interface` es una forma fácil de crear demos que pueden ser desde una calculadora hasta una aplicación para reconocimiento de voz. \n",
        "\n",
        "Se inicializa con tres parámetros necesarios:\n",
        "\n",
        "\n",
        "*   `fn`: la función.\n",
        "\n",
        "*   `inputs`: qué componente(s) usar para los inputs de la función, por ejemplo, \"texto\", \"imagen\" o \"audio\"\n",
        "* `outputs`: qué componente(s) usar para los outputs de la función, por ejemplo, \"texto\", \"imagen\" o \"etiqueta\"\n",
        "\n",
        "\n",
        "Gradio incluye más de 20 componentes diferentes, la mayoría de los cuales se pueden utilizar como inputs y outputs. En la documentación está la [lista completa](https://gradio.app/docs/#components)."
      ],
      "metadata": {
        "id": "wkJIvlmtgkfR"
      }
    },
    {
      "cell_type": "markdown",
      "source": [
        "Ejemplo 2:"
      ],
      "metadata": {
        "id": "EEgezutgiZ-4"
      }
    },
    {
      "cell_type": "code",
      "source": [],
      "metadata": {
        "id": "9NGKuXXfgLWH"
      },
      "execution_count": null,
      "outputs": []
    },
    {
      "cell_type": "markdown",
      "source": [
        "## Demos para clasificación de imágenes"
      ],
      "metadata": {
        "id": "kwLrBHxy62Cf"
      }
    },
    {
      "cell_type": "markdown",
      "source": [
        "**Ejemplo 1:** demo con modelo cargado de las aplicaciones de TensorFlow."
      ],
      "metadata": {
        "id": "0XzHJlgVjjWY"
      }
    },
    {
      "cell_type": "code",
      "source": [],
      "metadata": {
        "id": "4xhcXAn8j4Lj"
      },
      "execution_count": null,
      "outputs": []
    },
    {
      "cell_type": "code",
      "source": [
        "import requests\n",
        "\n",
        "# Obteniendo las labels de \"https://git.io/JJkYN\"\n"
      ],
      "metadata": {
        "id": "KnIwuuO1kfU-"
      },
      "execution_count": null,
      "outputs": []
    },
    {
      "cell_type": "code",
      "source": [],
      "metadata": {
        "id": "-eK8z_CHUOlJ"
      },
      "execution_count": null,
      "outputs": []
    },
    {
      "cell_type": "code",
      "source": [],
      "metadata": {
        "id": "osfHOsfYUUiI"
      },
      "execution_count": null,
      "outputs": []
    },
    {
      "cell_type": "markdown",
      "source": [
        "**Ejemplo 2**: demo cargando un modelo del Hub de Hugging Face. "
      ],
      "metadata": {
        "id": "tBZhxGS1nv7a"
      }
    },
    {
      "cell_type": "code",
      "source": [],
      "metadata": {
        "id": "XILy1l6dcO7S"
      },
      "execution_count": null,
      "outputs": []
    },
    {
      "cell_type": "markdown",
      "source": [
        "## Demo de transcripción de audio a texto"
      ],
      "metadata": {
        "id": "gs4GK4t17dK5"
      }
    },
    {
      "cell_type": "markdown",
      "source": [
        "Usamos `pipeline` para cargar un modelo para automatic speech recognition en español del Hub de Hugging Face.\n",
        "\n",
        "El demo transcribe automáticamente de lo que grabamos."
      ],
      "metadata": {
        "id": "yx57LeGT8BGP"
      }
    },
    {
      "cell_type": "code",
      "source": [],
      "metadata": {
        "id": "7sOjfBWI541e"
      },
      "execution_count": null,
      "outputs": []
    },
    {
      "cell_type": "code",
      "source": [],
      "metadata": {
        "id": "G7bX5MM7ypJJ"
      },
      "execution_count": null,
      "outputs": []
    },
    {
      "cell_type": "code",
      "source": [],
      "metadata": {
        "id": "ssCh6RgW1Kxq"
      },
      "execution_count": null,
      "outputs": []
    },
    {
      "cell_type": "markdown",
      "source": [
        "## Blocks"
      ],
      "metadata": {
        "id": "LnTOzNIQ_R2-"
      }
    },
    {
      "cell_type": "markdown",
      "source": [
        "Creamos un demo que recibe dos modelos. Puede transcribir una voz y también puede clasificar el sentimiento de un texto. "
      ],
      "metadata": {
        "id": "u4JSbah8BjOZ"
      }
    },
    {
      "cell_type": "code",
      "source": [],
      "metadata": {
        "id": "Rmn5K-zG_S_8"
      },
      "execution_count": null,
      "outputs": []
    },
    {
      "cell_type": "code",
      "source": [],
      "metadata": {
        "id": "XMsS8NZKCwm3"
      },
      "execution_count": null,
      "outputs": []
    },
    {
      "cell_type": "code",
      "source": [],
      "metadata": {
        "id": "CFGG0R_CFQkd"
      },
      "execution_count": null,
      "outputs": []
    },
    {
      "cell_type": "code",
      "source": [],
      "metadata": {
        "id": "e2xBXVDAF-5-"
      },
      "execution_count": null,
      "outputs": []
    },
    {
      "cell_type": "markdown",
      "source": [
        "Hagamos un aplicación de blocks un poco más interesante."
      ],
      "metadata": {
        "id": "zqK3a-7ygjIi"
      }
    },
    {
      "cell_type": "code",
      "source": [
        "\n"
      ],
      "metadata": {
        "id": "CHuwCu2m0gmC"
      },
      "execution_count": null,
      "outputs": []
    }
  ]
}