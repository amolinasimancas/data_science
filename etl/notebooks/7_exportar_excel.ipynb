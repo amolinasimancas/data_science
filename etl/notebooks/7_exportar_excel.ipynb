{
 "cells": [
  {
   "cell_type": "markdown",
   "metadata": {},
   "source": [
    "### Ejemplo de exportación a Excel"
   ]
  },
  {
   "cell_type": "code",
   "execution_count": 4,
   "metadata": {},
   "outputs": [],
   "source": [
    "import pandas as pd\n",
    "import os\n",
    "\n",
    "# Datos como un diccionario\n",
    "datos = {\n",
    "    \"ID\": [1, 2, 3],\n",
    "    \"Nombre\": [\"Karla\", \"Laura\", \"Luis\"]\n",
    "}\n",
    "\n",
    "# Convertir a DataFrame\n",
    "data_nueva1 = pd.DataFrame(datos)\n",
    "\n",
    "# Exportar a un archivo Excel\n",
    "data_nueva1.to_excel('data_nueva1.xlsx', index=False)"
   ]
  },
  {
   "cell_type": "markdown",
   "metadata": {},
   "source": [
    "### Ejemplo de Carga Incremental a Excel"
   ]
  },
  {
   "cell_type": "code",
   "execution_count": 2,
   "metadata": {},
   "outputs": [],
   "source": [
    "def cargaincremental_excel(data_nueva, data_completa_ruta):\n",
    "    if os.path.exists(data_completa_ruta):\n",
    "        data_completa = pd.read_excel(data_completa_ruta)\n",
    "        data_completa = pd.concat([data_completa, data_nueva]).drop_duplicates()\n",
    "    else:\n",
    "        data_completa = data_nueva\n",
    "\n",
    "    data_completa.to_excel(data_completa_ruta, index=False)\n",
    "    print(\"Carga incremental realizada correctamente.\")"
   ]
  },
  {
   "cell_type": "code",
   "execution_count": 5,
   "metadata": {},
   "outputs": [
    {
     "name": "stdout",
     "output_type": "stream",
     "text": [
      "Carga incremental realizada correctamente.\n"
     ]
    }
   ],
   "source": [
    "# Ejecutar Carga Incremental\n",
    "cargaincremental_excel(data_nueva1, 'data_completa.xlsx')"
   ]
  }
 ],
 "metadata": {
  "kernelspec": {
   "display_name": ".venv",
   "language": "python",
   "name": "python3"
  },
  "language_info": {
   "codemirror_mode": {
    "name": "ipython",
    "version": 3
   },
   "file_extension": ".py",
   "mimetype": "text/x-python",
   "name": "python",
   "nbconvert_exporter": "python",
   "pygments_lexer": "ipython3",
   "version": "3.11.8"
  }
 },
 "nbformat": 4,
 "nbformat_minor": 2
}
