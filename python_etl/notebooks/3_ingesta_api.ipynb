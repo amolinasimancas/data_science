{
 "cells": [
  {
   "cell_type": "markdown",
   "metadata": {},
   "source": [
    "## Ingesta desde API´s"
   ]
  },
  {
   "cell_type": "code",
   "execution_count": 1,
   "metadata": {},
   "outputs": [],
   "source": [
    "import requests\n",
    "import json\n",
    "import pandas as pd"
   ]
  },
  {
   "cell_type": "markdown",
   "metadata": {},
   "source": [
    "Para este ejercicio fue necesario crear un usuario en la API de **AccuWeather** con user: antoniomolina282@gmail.com y contraseña AccuWeather176642234. Se obtuvo la **API key**: \n",
    "> *gSFnXqJghMNKcPGp6TTsBllFQ0VIxKcP*\n",
    "\n",
    "Para consultar el clima de Rosario (AR) se emplea la region key **11222**"
   ]
  },
  {
   "cell_type": "code",
   "execution_count": 3,
   "metadata": {},
   "outputs": [],
   "source": [
    "url = 'http://dataservice.accuweather.com/forecasts/v1/daily/1day/11222?apikey=gSFnXqJghMNKcPGp6TTsBllFQ0VIxKcP'"
   ]
  },
  {
   "cell_type": "markdown",
   "metadata": {},
   "source": [
    "Hacemos un GET de la url que nos da una respuesta, confirmemos que sea válida con el código HTTP 200"
   ]
  },
  {
   "cell_type": "code",
   "execution_count": 4,
   "metadata": {},
   "outputs": [
    {
     "name": "stdout",
     "output_type": "stream",
     "text": [
      "<Response [200]>\n"
     ]
    }
   ],
   "source": [
    "respuesta = requests.get(url)\n",
    "print(respuesta)"
   ]
  },
  {
   "cell_type": "markdown",
   "metadata": {},
   "source": [
    "Ahora veamos el contenido de la respuesta obtenida"
   ]
  },
  {
   "cell_type": "code",
   "execution_count": 7,
   "metadata": {},
   "outputs": [
    {
     "data": {
      "text/plain": [
       "'{\"Headline\":{\"EffectiveDate\":\"2025-03-30T07:00:00-03:00\",\"EffectiveEpochDate\":1743328800,\"Severity\":3,\"Text\":\"Thunderstorms in the area tomorrow morning through tomorrow evening\",\"Category\":\"thunderstorm\",\"EndDate\":\"2025-03-31T01:00:00-03:00\",\"EndEpochDate\":1743393600,\"MobileLink\":\"http://www.accuweather.com/en/ar/rosario/11222/daily-weather-forecast/11222?lang=en-us\",\"Link\":\"http://www.accuweather.com/en/ar/rosario/11222/daily-weather-forecast/11222?lang=en-us\"},\"DailyForecasts\":[{\"Date\":\"2025-03-29T07:00:00-03:00\",\"EpochDate\":1743242400,\"Temperature\":{\"Minimum\":{\"Value\":68.0,\"Unit\":\"F\",\"UnitType\":18},\"Maximum\":{\"Value\":83.0,\"Unit\":\"F\",\"UnitType\":18}},\"Day\":{\"Icon\":2,\"IconPhrase\":\"Mostly sunny\",\"HasPrecipitation\":false},\"Night\":{\"Icon\":33,\"IconPhrase\":\"Clear\",\"HasPrecipitation\":false},\"Sources\":[\"AccuWeather\"],\"MobileLink\":\"http://www.accuweather.com/en/ar/rosario/11222/daily-weather-forecast/11222?day=1&lang=en-us\",\"Link\":\"http://www.accuweather.com/en/ar/rosario/11222/daily-weather-forecast/11222?day=1&lang=en-us\"}]}'"
      ]
     },
     "execution_count": 7,
     "metadata": {},
     "output_type": "execute_result"
    }
   ],
   "source": [
    "respuesta.text"
   ]
  },
  {
   "cell_type": "markdown",
   "metadata": {},
   "source": [
    "Guardamos la respuesta en una variable que luego devolvemos como lista de diccionarios de JSON"
   ]
  },
  {
   "cell_type": "code",
   "execution_count": 11,
   "metadata": {},
   "outputs": [
    {
     "data": {
      "text/plain": [
       "{'Headline': {'EffectiveDate': '2025-03-30T07:00:00-03:00',\n",
       "  'EffectiveEpochDate': 1743328800,\n",
       "  'Severity': 3,\n",
       "  'Text': 'Thunderstorms in the area tomorrow morning through tomorrow evening',\n",
       "  'Category': 'thunderstorm',\n",
       "  'EndDate': '2025-03-31T01:00:00-03:00',\n",
       "  'EndEpochDate': 1743393600,\n",
       "  'MobileLink': 'http://www.accuweather.com/en/ar/rosario/11222/daily-weather-forecast/11222?lang=en-us',\n",
       "  'Link': 'http://www.accuweather.com/en/ar/rosario/11222/daily-weather-forecast/11222?lang=en-us'},\n",
       " 'DailyForecasts': [{'Date': '2025-03-29T07:00:00-03:00',\n",
       "   'EpochDate': 1743242400,\n",
       "   'Temperature': {'Minimum': {'Value': 68.0, 'Unit': 'F', 'UnitType': 18},\n",
       "    'Maximum': {'Value': 83.0, 'Unit': 'F', 'UnitType': 18}},\n",
       "   'Day': {'Icon': 2, 'IconPhrase': 'Mostly sunny', 'HasPrecipitation': False},\n",
       "   'Night': {'Icon': 33, 'IconPhrase': 'Clear', 'HasPrecipitation': False},\n",
       "   'Sources': ['AccuWeather'],\n",
       "   'MobileLink': 'http://www.accuweather.com/en/ar/rosario/11222/daily-weather-forecast/11222?day=1&lang=en-us',\n",
       "   'Link': 'http://www.accuweather.com/en/ar/rosario/11222/daily-weather-forecast/11222?day=1&lang=en-us'}]}"
      ]
     },
     "execution_count": 11,
     "metadata": {},
     "output_type": "execute_result"
    }
   ],
   "source": [
    "texto = respuesta.text\n",
    "json_data = json.loads(texto)\n",
    "json_data"
   ]
  },
  {
   "cell_type": "markdown",
   "metadata": {},
   "source": [
    "A continuación se da un ejemplo con manejo de errores que debe ser la buena práctica a seguir siempre"
   ]
  },
  {
   "cell_type": "code",
   "execution_count": 12,
   "metadata": {},
   "outputs": [
    {
     "name": "stdout",
     "output_type": "stream",
     "text": [
      "Título: {'EffectiveDate': '2025-03-30T07:00:00-03:00', 'EffectiveEpochDate': 1743328800, 'Severity': 3, 'Text': 'Thunderstorms in the area tomorrow morning through tomorrow evening', 'Category': 'thunderstorm', 'EndDate': '2025-03-31T01:00:00-03:00', 'EndEpochDate': 1743393600, 'MobileLink': 'http://www.accuweather.com/en/ar/rosario/11222/daily-weather-forecast/11222?lang=en-us', 'Link': 'http://www.accuweather.com/en/ar/rosario/11222/daily-weather-forecast/11222?lang=en-us'}\n",
      "Pronóstico: [{'Date': '2025-03-29T07:00:00-03:00', 'EpochDate': 1743242400, 'Temperature': {'Minimum': {'Value': 68.0, 'Unit': 'F', 'UnitType': 18}, 'Maximum': {'Value': 83.0, 'Unit': 'F', 'UnitType': 18}}, 'Day': {'Icon': 2, 'IconPhrase': 'Mostly sunny', 'HasPrecipitation': False}, 'Night': {'Icon': 33, 'IconPhrase': 'Clear', 'HasPrecipitation': False}, 'Sources': ['AccuWeather'], 'MobileLink': 'http://www.accuweather.com/en/ar/rosario/11222/daily-weather-forecast/11222?day=1&lang=en-us', 'Link': 'http://www.accuweather.com/en/ar/rosario/11222/daily-weather-forecast/11222?day=1&lang=en-us'}]\n"
     ]
    }
   ],
   "source": [
    "try:\n",
    "    # Hacemos la solicitud GET\n",
    "    response = requests.get(url)\n",
    "    \n",
    "    # Comprobamos si la solicitud fue exitosa\n",
    "    if response.status_code == 200:\n",
    "        # Convertimos la respuesta a JSON\n",
    "        data = response.json()\n",
    "        \n",
    "        # Procesamos los datos JSON\n",
    "        # En este caso, mostramos el título y el contenido del post\n",
    "        print(\"Título:\", data.get(\"Headline\"))\n",
    "        print(\"Pronóstico:\", data.get(\"DailyForecasts\"))\n",
    "    else:\n",
    "        print(f\"Error: {response.status_code}\")\n",
    "        \n",
    "except requests.RequestException as e:\n",
    "    print(f\"Error en la solicitud: {e}\")"
   ]
  }
 ],
 "metadata": {
  "kernelspec": {
   "display_name": ".venv",
   "language": "python",
   "name": "python3"
  },
  "language_info": {
   "codemirror_mode": {
    "name": "ipython",
    "version": 3
   },
   "file_extension": ".py",
   "mimetype": "text/x-python",
   "name": "python",
   "nbconvert_exporter": "python",
   "pygments_lexer": "ipython3",
   "version": "3.11.8"
  }
 },
 "nbformat": 4,
 "nbformat_minor": 2
}
